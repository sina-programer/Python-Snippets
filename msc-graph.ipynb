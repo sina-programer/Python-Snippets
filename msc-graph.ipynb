{
 "cells": [
  {
   "cell_type": "code",
   "execution_count": 1,
   "metadata": {},
   "outputs": [],
   "source": [
    "from pyvis.network import Network\n",
    "import networkx as nx\n",
    "import pandas as pd\n",
    "import numpy as np"
   ]
  },
  {
   "cell_type": "code",
   "execution_count": 2,
   "metadata": {},
   "outputs": [],
   "source": [
    "INPUT_PATH = 'msc-search.txt'\n",
    "OUTPUT_PATH = 'graph.html'\n",
    "HIEGHT = 750  # pixel\n",
    "WIDTH = 1.00  # percent\n",
    "SIZE = True  # dynamic sizes based on the frequency\n",
    "SC = 5"
   ]
  },
  {
   "cell_type": "code",
   "execution_count": 3,
   "metadata": {},
   "outputs": [],
   "source": [
    "def count(series, node, c=SC):\n",
    "    return np.log2(len(series[series.str.startswith(node)]) + 1) * c"
   ]
  },
  {
   "cell_type": "code",
   "execution_count": 4,
   "metadata": {},
   "outputs": [],
   "source": [
    "def to_graph(df):\n",
    "    G = nx.Graph()\n",
    "    for idx, row in df.iterrows():\n",
    "        name = row['Name']\n",
    "        parent = str(row['Parent'])\n",
    "        if name not in G:\n",
    "            G.add_node(name, size=count(df['Node'], name) if SIZE else SC)\n",
    "        if parent and parent not in G:\n",
    "            G.add_node(parent, size=count(df['Node'], parent) if SIZE else SC)\n",
    "        G.add_edge(name, parent)\n",
    "\n",
    "    return G"
   ]
  },
  {
   "cell_type": "code",
   "execution_count": 5,
   "metadata": {},
   "outputs": [],
   "source": [
    "df = pd.read_csv(INPUT_PATH, index_col=0)"
   ]
  },
  {
   "cell_type": "code",
   "execution_count": 6,
   "metadata": {},
   "outputs": [],
   "source": [
    "graph = to_graph(df)"
   ]
  },
  {
   "cell_type": "code",
   "execution_count": 7,
   "metadata": {},
   "outputs": [
    {
     "name": "stdout",
     "output_type": "stream",
     "text": [
      "Warning: When  cdn_resources is 'local' jupyter notebook has issues displaying graphics on chrome/safari. Use cdn_resources='in_line' or cdn_resources='remote' if you have issues viewing graphics in a notebook.\n",
      "graph.html\n"
     ]
    }
   ],
   "source": [
    "nt = Network(str(HIEGHT)+'px', '100%', notebook=True)\n",
    "nt.from_nx(graph)\n",
    "nt.show(OUTPUT_PATH)"
   ]
  }
 ],
 "metadata": {
  "kernelspec": {
   "display_name": "Python 3",
   "language": "python",
   "name": "python3"
  },
  "language_info": {
   "codemirror_mode": {
    "name": "ipython",
    "version": 3
   },
   "file_extension": ".py",
   "mimetype": "text/x-python",
   "name": "python",
   "nbconvert_exporter": "python",
   "pygments_lexer": "ipython3",
   "version": "3.10.4"
  }
 },
 "nbformat": 4,
 "nbformat_minor": 2
}
